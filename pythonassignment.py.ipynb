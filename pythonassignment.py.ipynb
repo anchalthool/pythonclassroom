{
 "cells": [
  {
   "cell_type": "code",
   "execution_count": 1,
   "metadata": {},
   "outputs": [
    {
     "name": "stdout",
     "output_type": "stream",
     "text": [
      "enter the number89\n",
      "a=5 \n",
      "b=8\n"
     ]
    }
   ],
   "source": [
    "#a<=b and\n",
    "#a^2 + b^2 = A\n",
    "#0 <= A\n",
    "#A<=1000\n",
    "\n",
    "\n",
    "num=int(input(\"enter the number\"))\n",
    "for i in range (0,num+1):\n",
    "    for j in range(i,num+1):\n",
    "        if i*i + j*j ==num:\n",
    "            print(\"a={} \\nb={}\".format(i,j))"
   ]
  },
  {
   "cell_type": "code",
   "execution_count": null,
   "metadata": {},
   "outputs": [],
   "source": []
  }
 ],
 "metadata": {
  "kernelspec": {
   "display_name": "Python 3",
   "language": "python",
   "name": "python3"
  },
  "language_info": {
   "codemirror_mode": {
    "name": "ipython",
    "version": 3
   },
   "file_extension": ".py",
   "mimetype": "text/x-python",
   "name": "python",
   "nbconvert_exporter": "python",
   "pygments_lexer": "ipython3",
   "version": "3.7.4"
  }
 },
 "nbformat": 4,
 "nbformat_minor": 2
}
